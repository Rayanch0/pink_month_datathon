{
 "cells": [
  {
   "cell_type": "code",
   "execution_count": null,
   "metadata": {
    "vscode": {
     "languageId": "plaintext"
    }
   },
   "outputs": [],
   "source": [
    "# Import necessary libraries\n",
    "import pandas as pd\n",
    "from sklearn.preprocessing import LabelEncoder, StandardScaler, PolynomialFeatures\n",
    "from sklearn.model_selection import train_test_split, RandomizedSearchCV\n",
    "from sklearn.ensemble import RandomForestClassifier\n",
    "from sklearn.metrics import accuracy_score, precision_score, recall_score, f1_score\n",
    "\n",
    "# Load dataset\n",
    "df = pd.read_csv('train.csv')  # Adjust the path to your dataset\n",
    "\n",
    "# Step 1: Check for missing values\n",
    "print(\"Missing values in each column:\\n\", df.isnull().sum())\n",
    "\n",
    "# Step 2: Encode categorical variables\n",
    "label_encoder = LabelEncoder()\n",
    "df['Marital_Status'] = label_encoder.fit_transform(df['Marital_Status'])\n",
    "df['Radiation_Therapy'] = df['Radiation_Therapy'].map({'Yes': 1, 'No': 0})\n",
    "df['Chemotherapy'] = df['Chemotherapy'].map({'Yes': 1, 'No': 0})\n",
    "df['Hormone_Therapy'] = df['Hormone_Therapy'].map({'Yes': 1, 'No': 0})\n",
    "\n",
    "# Step 3: Define features and target\n",
    "X = df.drop(columns=['Patient_ID', 'Survival_Status'])\n",
    "y = df['Survival_Status']\n",
    "\n",
    "# Step 4: Normalize features\n",
    "scaler = StandardScaler()\n",
    "X_scaled = scaler.fit_transform(X)\n",
    "\n",
    "# Step 5: Add polynomial features\n",
    "poly = PolynomialFeatures(degree=2, interaction_only=True, include_bias=False)\n",
    "X_poly = poly.fit_transform(X_scaled)\n",
    "\n",
    "# Step 6: Reconfirm Train-test split\n",
    "X_train_poly, X_test_poly, y_train, y_test = train_test_split(X_poly, y, test_size=0.2, random_state=42)\n",
    "\n",
    "# Step 7: Define the parameter grid for Random Forest\n",
    "param_dist = {\n",
    "    'n_estimators': [100, 200, 300, 400],\n",
    "    'max_features': ['sqrt', 'log2'],\n",
    "    'max_depth': [None, 10, 20, 30],\n",
    "    'min_samples_split': [2, 5, 10],\n",
    "    'min_samples_leaf': [1, 2, 4],\n",
    "    'bootstrap': [True, False]\n",
    "}\n",
    "\n",
    "# Step 8: Use RandomizedSearchCV for hyperparameter tuning\n",
    "rf = RandomForestClassifier(random_state=42)\n",
    "random_search = RandomizedSearchCV(estimator=rf, param_distributions=param_dist, \n",
    "                                   n_iter=100, cv=5, verbose=2, random_state=42, n_jobs=-1)\n",
    "random_search.fit(X_train_poly, y_train)\n",
    "\n",
    "# Step 9: Get the best model and fit it\n",
    "best_rf = random_search.best_estimator_\n",
    "best_rf.fit(X_train_poly, y_train)\n",
    "\n",
    "# Step 10: Evaluate the model\n",
    "y_pred_poly = best_rf.predict(X_test_poly)\n",
    "print(f'Accuracy: {accuracy_score(y_test, y_pred_poly)}')\n",
    "print(f'Precision: {precision_score(y_test, y_pred_poly)}')\n",
    "print(f'Recall: {recall_score(y_test, y_pred_poly)}')\n",
    "print(f'F1 Score: {f1_score(y_test, y_pred_poly)}')\n"
   ]
  }
 ],
 "metadata": {
  "language_info": {
   "name": "python"
  }
 },
 "nbformat": 4,
 "nbformat_minor": 2
}
